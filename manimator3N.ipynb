{
 "cells": [
  {
   "cell_type": "code",
   "execution_count": 2,
   "metadata": {},
   "outputs": [],
   "source": [
    "import numpy as np\n",
    "import matplotlib.pyplot as plt\n",
    "from numpy import linalg as LA\n",
    "from ipywidgets import *\n",
    "from manim import *"
   ]
  },
  {
   "cell_type": "code",
   "execution_count": 29,
   "metadata": {},
   "outputs": [],
   "source": [
    "data = np.load(\"data/figure10slices_full_r200_z100.npz\")\n",
    "\n",
    "#creates the images (can be done outside of scene if correct naming is used)\n",
    "# Function to generate a color map from 2D data and save it as an image\n",
    "def create_colormap_image(data_slice, z_index):\n",
    "    plt.imshow(data_slice, cmap='viridis', vmin=1, vmax=5,origin=\"lower\",extent=paramspace.ravel())\n",
    "    plt.axis('off')  # Remove axis\n",
    "    # Save the plot as an image\n",
    "    plt.savefig(f\"junk/slice_{z_index}.png\", bbox_inches='tight', pad_inches=0)\n",
    "    plt.close()\n",
    "paramspace = np.array([[-2,10],[-2,10]])\n",
    "\n",
    "stack = np.stack([data[key] for key in data],axis=-1)\n",
    "x_size, y_size, z_size = stack.shape\n",
    "keys = data.keys()\n",
    "\n",
    "# Create color map images for each slice along the z-axis\n",
    "for z_slice in range(z_size):\n",
    "    create_colormap_image(stack[:, :, z_slice], z_slice)\n"
   ]
  },
  {
   "cell_type": "code",
   "execution_count": 30,
   "metadata": {},
   "outputs": [],
   "source": [
    "noframes = z_size"
   ]
  },
  {
   "cell_type": "code",
   "execution_count": 32,
   "metadata": {},
   "outputs": [
    {
     "data": {
      "text/html": [
       "<pre style=\"white-space:pre;overflow-x:auto;line-height:normal;font-family:Menlo,'DejaVu Sans Mono',consolas,'Courier New',monospace\">Manim Community <span style=\"color: #008000; text-decoration-color: #008000\">v0.18.1</span>\n",
       "\n",
       "</pre>\n"
      ],
      "text/plain": [
       "Manim Community \u001b[32mv0.\u001b[0m\u001b[32m18.1\u001b[0m\n",
       "\n"
      ]
     },
     "metadata": {},
     "output_type": "display_data"
    },
    {
     "name": "stderr",
     "output_type": "stream",
     "text": [
      "                                                                                \r"
     ]
    },
    {
     "data": {
      "text/html": [
       "<video src=\"media/jupyter/ColorMapCrossSection@2024-10-24@22-27-39.mp4\" controls autoplay loop style=\"max-width: 60%;\"  >\n",
       "      Your browser does not support the <code>video</code> element.\n",
       "    </video>"
      ],
      "text/plain": [
       "<IPython.core.display.Video object>"
      ]
     },
     "metadata": {},
     "output_type": "display_data"
    }
   ],
   "source": [
    "%%manim -ql -v WARNING --disable_caching ColorMapCrossSection\n",
    "#creates animation of crosssections fadind into each other\n",
    "\n",
    "\n",
    "class ColorMapCrossSection(Scene):\n",
    "    def construct(self):\n",
    "        \n",
    "        #data array goes in here shape= (x,y,z) where z is the time axis\n",
    "        # Generate 3D array data with random integers between 1 and 5\n",
    "        z_size = noframes\n",
    "        ## mAnimation\n",
    "        # Load the first image to display it\n",
    "        #starting image\n",
    "        run_time = 0.1 #speed of transitions\n",
    "        #wait_time = 2 #time between transitions (not needed)\n",
    "        image_mobject = ImageMobject(\"junk/slice_0.png\").scale(3)  # Scale to desired size\n",
    "        self.play(FadeIn(image_mobject),run_time=run_time)  # Show the first slice\n",
    "        # self.wait(wait_time)\n",
    "\n",
    "        # Transition through the z slices\n",
    "        for z_slice in range(1, z_size):\n",
    "            new_image_mobject = ImageMobject(f\"junk/slice_{z_slice}.png\").scale(3)\n",
    "            self.play(Transform(image_mobject, new_image_mobject),run_time=run_time) \n",
    "            #self.wait(wait_time)  # Pause to observe each slice\n",
    "\n",
    "        self.wait(2) #display end for a little lnger\n"
   ]
  }
 ],
 "metadata": {
  "kernelspec": {
   "display_name": "base",
   "language": "python",
   "name": "python3"
  },
  "language_info": {
   "codemirror_mode": {
    "name": "ipython",
    "version": 3
   },
   "file_extension": ".py",
   "mimetype": "text/x-python",
   "name": "python",
   "nbconvert_exporter": "python",
   "pygments_lexer": "ipython3",
   "version": "3.11.5"
  }
 },
 "nbformat": 4,
 "nbformat_minor": 2
}
