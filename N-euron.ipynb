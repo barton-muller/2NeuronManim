{
 "cells": [
  {
   "cell_type": "code",
   "execution_count": 1,
   "metadata": {},
   "outputs": [],
   "source": [
    "import numpy as np\n",
    "import matplotlib.pyplot as plt\n",
    "from numpy import linalg as LA\n",
    "from ipywidgets import *\n",
    "from manim import *\n",
    "\n",
    "np.set_printoptions(precision=3, suppress=True, linewidth=100)\n",
    "def plotLayout(ax,xlim,ylim,title,xlab,ylab):\n",
    "    # prepares a plot layout\n",
    "    # Where:\n",
    "    #- axis ax: figures axis\n",
    "    #- param xlim: (xmin,xmax)x range of plot\n",
    "    #- param ylim: (ymin,ymax)y range of plot\n",
    "\n",
    "    #   Refine plot\n",
    "    ax.grid(True)\n",
    "    ax.axhline(y=0, color='k')\n",
    "    ax.axvline(x=0, color='k')\n",
    "    ax.set_xlim(xlim)\n",
    "    ax.set_ylim(ylim)\n",
    "    ax.set_title(title)\n",
    "    ax.set_xlabel(xlab)\n",
    "    ax.set_ylabel(ylab)"
   ]
  },
  {
   "cell_type": "code",
   "execution_count": 2,
   "metadata": {},
   "outputs": [],
   "source": [
    "#import needed: numpy, pyplot, plotLayout\n",
    "def nd_orbit(fnct, x0, it):\n",
    "    # calculates orbits of n dimensional map\n",
    "    # Where:\n",
    "    #- param fnct: Mapping function mapping x0 to x1 taking a single parameter\n",
    "    #- param x0: Initial value\n",
    "    #- param it: Number of iterations\n",
    "    #- returns: The entire orbit, including the initial value\n",
    "    #   Initialize\n",
    "    orbit = np.zeros((len(x0),it))\n",
    "    orbit[:,0]=x0\n",
    "    #   Main loop\n",
    "    for i in range(it-1):\n",
    "        orbit[:,i+1] = fnct(orbit[:,i])\n",
    "    return orbit"
   ]
  },
  {
   "cell_type": "code",
   "execution_count": 3,
   "metadata": {},
   "outputs": [],
   "source": [
    "def activation(x):\n",
    "    #the actication  function f()\n",
    "    #return (x+abs(x))/2 #ReLu\n",
    "    return 1/(1+np.exp(-x)) #sigmoid \n",
    "    #return np.tanh(x) #tanh"
   ]
  },
  {
   "cell_type": "code",
   "execution_count": 4,
   "metadata": {},
   "outputs": [],
   "source": [
    "#import needed: numpy, pyplot, plotLayout, nd_orbit\n",
    "def neuron_2_discrete(x0, weightM,bias ,Nit=100, ntrans=10):\n",
    "    # calculates stable solution henon map\n",
    "    # Where:\n",
    "    #- param x0: Initial value\n",
    "    #- param a: Parameters of Henon map, being [a,b] in the standard expression\n",
    "    #- returns: An array containing the orbit of the Henon map without transients\n",
    "\n",
    "    linearmap = lambda x: (weightM @ activation(x) + bias)\n",
    "\n",
    "    #   Calculate orbit\n",
    "    orbit = nd_orbit(linearmap, x0, Nit)\n",
    "    orbit = orbit[:, ntrans+1:] #remove the transient (+1 to also remove initial condition)\n",
    "    return orbit\n"
   ]
  }
 ],
 "metadata": {
  "kernelspec": {
   "display_name": "Python 3 (ipykernel)",
   "language": "python",
   "name": "python3"
  },
  "language_info": {
   "codemirror_mode": {
    "name": "ipython",
    "version": 3
   },
   "file_extension": ".py",
   "mimetype": "text/x-python",
   "name": "python",
   "nbconvert_exporter": "python",
   "pygments_lexer": "ipython3",
   "version": "3.11.5"
  }
 },
 "nbformat": 4,
 "nbformat_minor": 4
}
