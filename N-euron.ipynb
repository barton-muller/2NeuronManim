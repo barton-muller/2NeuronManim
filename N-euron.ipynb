{
 "cells": [
  {
   "cell_type": "code",
   "execution_count": 32,
   "metadata": {},
   "outputs": [],
   "source": [
    "import numpy as np\n",
    "import matplotlib.pyplot as plt\n",
    "from numpy import linalg as LA\n",
    "from ipywidgets import *\n",
    "from manim import *\n",
    "\n",
    "np.set_printoptions(precision=3, suppress=True, linewidth=100)\n",
    "def plotLayout(ax,xlim,ylim,title,xlab,ylab):\n",
    "    # prepares a plot layout\n",
    "    # Where:\n",
    "    #- axis ax: figures axis\n",
    "    #- param xlim: (xmin,xmax)x range of plot\n",
    "    #- param ylim: (ymin,ymax)y range of plot\n",
    "\n",
    "    #   Refine plot\n",
    "    ax.grid(True)\n",
    "    ax.axhline(y=0, color='k')\n",
    "    ax.axvline(x=0, color='k')\n",
    "    ax.set_xlim(xlim)\n",
    "    ax.set_ylim(ylim)\n",
    "    ax.set_title(title)\n",
    "    ax.set_xlabel(xlab)\n",
    "    ax.set_ylabel(ylab)"
   ]
  },
  {
   "cell_type": "code",
   "execution_count": 2,
   "metadata": {},
   "outputs": [],
   "source": [
    "#import needed: numpy, pyplot, plotLayout\n",
    "def nd_orbit(fnct, x0, it):\n",
    "    # calculates orbits of n dimensional map\n",
    "    # Where:\n",
    "    #- param fnct: Mapping function mapping x0 to x1 taking a single parameter\n",
    "    #- param x0: Initial value\n",
    "    #- param it: Number of iterations\n",
    "    #- returns: The entire orbit, including the initial value\n",
    "    #   Initialize\n",
    "    orbit = np.zeros((len(x0),it))\n",
    "    orbit[:,0]=x0\n",
    "    #   Main loop\n",
    "    for i in range(it-1):\n",
    "        orbit[:,i+1] = fnct(orbit[:,i])\n",
    "    return orbit"
   ]
  },
  {
   "cell_type": "code",
   "execution_count": 3,
   "metadata": {},
   "outputs": [],
   "source": [
    "def activation(x):\n",
    "    #the actication  function f()\n",
    "    #return (x+abs(x))/2 #ReLu\n",
    "    return 1/(1+np.exp(-x)) #sigmoid \n",
    "    #return np.tanh(x) #tanh"
   ]
  },
  {
   "cell_type": "code",
   "execution_count": 4,
   "metadata": {},
   "outputs": [],
   "source": [
    "#import needed: numpy, pyplot, plotLayout, nd_orbit\n",
    "def neuron_2_discrete(x0, weightM,bias ,Nit=100, ntrans=10):\n",
    "    # calculates stable solution henon map\n",
    "    # Where:\n",
    "    #- param x0: Initial value\n",
    "    #- param a: Parameters of Henon map, being [a,b] in the standard expression\n",
    "    #- returns: An array containing the orbit of the Henon map without transients\n",
    "\n",
    "    linearmap = lambda x: (weightM @ activation(x) + bias)\n",
    "\n",
    "    #   Calculate orbit\n",
    "    orbit = nd_orbit(linearmap, x0, Nit)\n",
    "    orbit = orbit[:, ntrans+1:] #remove the transient (+1 to also remove initial condition)\n",
    "    return orbit\n"
   ]
  },
  {
   "cell_type": "code",
   "execution_count": 34,
   "metadata": {},
   "outputs": [],
   "source": [
    "def orbit_generate():\n",
    "    return [[-1,-1],[1,-2]]"
   ]
  },
  {
   "cell_type": "code",
   "execution_count": 36,
   "metadata": {},
   "outputs": [
    {
     "data": {
      "text/html": [
       "<pre style=\"white-space:pre;overflow-x:auto;line-height:normal;font-family:Menlo,'DejaVu Sans Mono',consolas,'Courier New',monospace\">Manim Community <span style=\"color: #008000; text-decoration-color: #008000\">v0.18.1</span>\n",
       "\n",
       "</pre>\n"
      ],
      "text/plain": [
       "Manim Community \u001b[32mv0.\u001b[0m\u001b[32m18.1\u001b[0m\n",
       "\n"
      ]
     },
     "metadata": {},
     "output_type": "display_data"
    },
    {
     "name": "stderr",
     "output_type": "stream",
     "text": [
      "                                                                          \r"
     ]
    },
    {
     "data": {
      "text/html": [
       "<video src=\"media/jupyter/TwoNeuronRNNOrbit@2024-10-17@13-39-49.mp4\" controls autoplay loop style=\"max-width: 60%;\"  >\n",
       "      Your browser does not support the <code>video</code> element.\n",
       "    </video>"
      ],
      "text/plain": [
       "<IPython.core.display.Video object>"
      ]
     },
     "metadata": {},
     "output_type": "display_data"
    }
   ],
   "source": [
    "%%manim -ql -v WARNING TwoNeuronRNNOrbit\n",
    "\n",
    "class TwoNeuronRNNOrbit(Scene):\n",
    "    def animate(self,orbit_points):\n",
    "        # Create axes for the orbit plot\n",
    "        axes = Axes(\n",
    "            x_range=[-2, 2, 0.5], y_range=[-2, 2, 0.5],\n",
    "            x_length=6, y_length=6,\n",
    "            axis_config={\"color\": BLUE}\n",
    "        )\n",
    "        labels = axes.get_axis_labels(x_label=\"h1\", y_label=\"h2\")\n",
    "        numberplane = NumberPlane()\n",
    "        self.add(numberplane,axes, labels)\n",
    "        #self.play(Create(axes), Write(labels))\n",
    "        # Convert the simulated points to Manim points on the 2D plane\n",
    "        orbit_points_manim = [\n",
    "            axes.c2p(h[0], h[1]) for h in orbit_points\n",
    "        ]\n",
    "        # Create the orbit as a line with a moving dot\n",
    "        orbit_path = VMobject(color=BLUE)\n",
    "        orbit_path.set_points_as_corners(orbit_points_manim)\n",
    "        moving_dot = Dot(orbit_points_manim[0], color=RED)\n",
    "\n",
    "        # Animation: Draw the orbit path and move the dot along the path\n",
    "        self.play(Create(orbit_path), FadeIn(moving_dot))\n",
    "        self.play(MoveAlongPath(moving_dot, orbit_path), run_time=8, rate_func=linear)\n",
    "\n",
    "        # Hold the final state for a moment\n",
    "        self.wait(2)\n",
    "    def construct(self):\n",
    "        orbit_points = orbit_generate()\n",
    "        self.animate(orbit_points)\n"
   ]
  }
 ],
 "metadata": {
  "kernelspec": {
   "display_name": "base",
   "language": "python",
   "name": "python3"
  },
  "language_info": {
   "codemirror_mode": {
    "name": "ipython",
    "version": 3
   },
   "file_extension": ".py",
   "mimetype": "text/x-python",
   "name": "python",
   "nbconvert_exporter": "python",
   "pygments_lexer": "ipython3",
   "version": "3.11.5"
  }
 },
 "nbformat": 4,
 "nbformat_minor": 2
}
