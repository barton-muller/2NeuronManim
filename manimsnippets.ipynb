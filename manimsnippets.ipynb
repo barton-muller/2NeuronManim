{
 "cells": [
  {
   "cell_type": "markdown",
   "metadata": {},
   "source": [
    "### Imports"
   ]
  },
  {
   "cell_type": "code",
   "execution_count": 1,
   "metadata": {},
   "outputs": [],
   "source": [
    "import numpy as np\n",
    "import matplotlib.pyplot as plt\n",
    "import matplotlib.colors \n",
    "import matplotlib.cm\n",
    "from numpy import linalg as LA\n",
    "from ipywidgets import *\n",
    "from manim import *"
   ]
  },
  {
   "cell_type": "markdown",
   "metadata": {},
   "source": [
    "### Crossection color map animation\n"
   ]
  },
  {
   "cell_type": "code",
   "execution_count": 21,
   "metadata": {},
   "outputs": [
    {
     "data": {
      "text/html": [
       "<pre style=\"white-space:pre;overflow-x:auto;line-height:normal;font-family:Menlo,'DejaVu Sans Mono',consolas,'Courier New',monospace\">Manim Community <span style=\"color: #008000; text-decoration-color: #008000\">v0.18.1</span>\n",
       "\n",
       "</pre>\n"
      ],
      "text/plain": [
       "Manim Community \u001b[32mv0.\u001b[0m\u001b[32m18.1\u001b[0m\n",
       "\n"
      ]
     },
     "metadata": {},
     "output_type": "display_data"
    },
    {
     "name": "stderr",
     "output_type": "stream",
     "text": [
      "                                                                                    \r"
     ]
    },
    {
     "data": {
      "text/html": [
       "<video src=\"media/jupyter/ColorMapCrossSection@2024-10-23@16-15-42.mp4\" controls autoplay loop style=\"max-width: 60%;\"  >\n",
       "      Your browser does not support the <code>video</code> element.\n",
       "    </video>"
      ],
      "text/plain": [
       "<IPython.core.display.Video object>"
      ]
     },
     "metadata": {},
     "output_type": "display_data"
    }
   ],
   "source": [
    "%%manim -ql -v WARNING --disable_caching ColorMapCrossSection\n",
    "#creates animation of crosssections fadind into each other\n",
    "\n",
    "\n",
    "class ColorMapCrossSection(Scene):\n",
    "    def construct(self):\n",
    "        \n",
    "        #data array goes in here shape= (x,y,z) where z is the time axis\n",
    "        # Generate 3D array data with random integers between 1 and 5\n",
    "        x_size, y_size, z_size = 300, 300, 50\n",
    "        data = np.random.randint(1, 3, (x_size, y_size, z_size))\n",
    "        \n",
    "        #creates the images (can be done outside of scene if correct naming is used)\n",
    "        # Function to generate a color map from 2D data and save it as an image\n",
    "        def create_colormap_image(data_slice, z_index):\n",
    "            plt.imshow(data_slice, cmap='viridis', vmin=1, vmax=5)\n",
    "            plt.axis('off')  # Remove axis\n",
    "            # Save the plot as an image\n",
    "            plt.savefig(f\"junk/slice_{z_index}.png\", bbox_inches='tight', pad_inches=0)\n",
    "            plt.close()\n",
    "\n",
    "        # Create color map images for each slice along the z-axis\n",
    "        for z_slice in range(z_size):\n",
    "            create_colormap_image(data[:, :, z_slice], z_slice)\n",
    "\n",
    "        ## mAnimation\n",
    "        # Load the first image to display it\n",
    "        #starting image\n",
    "        run_time = 0.2 #speed of transitions\n",
    "        #wait_time = 2 #time between transitions (not needed)\n",
    "        image_mobject = ImageMobject(\"junk/slice_0.png\").scale(3)  # Scale to desired size\n",
    "        self.play(FadeIn(image_mobject),run_time=run_time)  # Show the first slice\n",
    "        # self.wait(wait_time)\n",
    "\n",
    "        # Transition through the z slices\n",
    "        for z_slice in range(1, z_size):\n",
    "            new_image_mobject = ImageMobject(f\"junk/slice_{z_slice}.png\").scale(3)\n",
    "            self.play(Transform(image_mobject, new_image_mobject),run_time=run_time) \n",
    "            #self.wait(wait_time)  # Pause to observe each slice\n",
    "\n",
    "        self.wait(2) #display end for a little lnger\n"
   ]
  },
  {
   "cell_type": "markdown",
   "metadata": {},
   "source": [
    "### Orbit plot"
   ]
  },
  {
   "cell_type": "markdown",
   "metadata": {},
   "source": [
    "#### Creates example orbit (old version)"
   ]
  },
  {
   "cell_type": "code",
   "execution_count": 8,
   "metadata": {},
   "outputs": [],
   "source": [
    "#import needed: numpy, pyplot, plotLayout\n",
    "def nd_orbit(fnct, x0, it):\n",
    "    # calculates orbits of n dimensional map\n",
    "    # Where:\n",
    "    #- param fnct: Mapping function mapping x0 to x1 taking a single parameter\n",
    "    #- param x0: Initial value\n",
    "    #- param it: Number of iterations\n",
    "    #- returns: The entire orbit, including the initial value\n",
    "    #   Initialize\n",
    "    orbit = np.zeros((len(x0),it))\n",
    "    orbit[:,0]=x0\n",
    "    #   Main loop\n",
    "    for i in range(it-1):\n",
    "        orbit[:,i+1] = fnct(orbit[:,i])\n",
    "    return orbit"
   ]
  },
  {
   "cell_type": "code",
   "execution_count": 9,
   "metadata": {},
   "outputs": [],
   "source": [
    "def activation(x):\n",
    "    #the actication  function f()\n",
    "    #return (x+abs(x))/2 #ReLu\n",
    "    return 1/(1+np.exp(-x)) #sigmoid \n",
    "    #return np.tanh(x) #tanh"
   ]
  },
  {
   "cell_type": "code",
   "execution_count": 10,
   "metadata": {},
   "outputs": [],
   "source": [
    "#import needed: numpy, pyplot, plotLayout, nd_orbit\n",
    "def neuron_2_discrete(x0,a,b,alpha ,Nit, ntrans):\n",
    "    # calculates stable solution henon map\n",
    "    # Where:\n",
    "    #- param x0: Initial value\n",
    "    #- param a: Parameters of Henon map, being [a,b] in the standard expression\n",
    "    #- returns: An array containing the orbit of the Henon map without transients\n",
    "\n",
    "    #   Initialize  \n",
    "    linearmap = lambda xy: alpha * (a @ activation(xy) + b)\n",
    "    n_iter = Nit\n",
    "    # n_steps_until_stable = 100\n",
    "\n",
    "    #   Calculate orbit\n",
    "    orbit = nd_orbit(linearmap, x0, n_iter)\n",
    "    orbit = orbit[:, ntrans+1:] #remove the transient (+1 to also remove initial condition)\n",
    "    return orbit\n"
   ]
  },
  {
   "cell_type": "code",
   "execution_count": 11,
   "metadata": {},
   "outputs": [],
   "source": [
    "def orbit_generate():\n",
    "    x0 = -np.array([0.1,0.1])\n",
    "    w11 = -10\n",
    "    w12 = 5.9\n",
    "    a = np.array([[w11,w12],\n",
    "                [-6.6,0]])\n",
    "    b = np.array([-3.8,3])\n",
    "    alpha = 1\n",
    "    orbit = neuron_2_discrete(x0,a,b,alpha,20,0)\n",
    "    return orbit"
   ]
  },
  {
   "cell_type": "markdown",
   "metadata": {},
   "source": [
    "#### Manimation"
   ]
  },
  {
   "cell_type": "code",
   "execution_count": 19,
   "metadata": {},
   "outputs": [
    {
     "data": {
      "text/html": [
       "<pre style=\"white-space:pre;overflow-x:auto;line-height:normal;font-family:Menlo,'DejaVu Sans Mono',consolas,'Courier New',monospace\">Manim Community <span style=\"color: #008000; text-decoration-color: #008000\">v0.18.1</span>\n",
       "\n",
       "</pre>\n"
      ],
      "text/plain": [
       "Manim Community \u001b[32mv0.\u001b[0m\u001b[32m18.1\u001b[0m\n",
       "\n"
      ]
     },
     "metadata": {},
     "output_type": "display_data"
    },
    {
     "name": "stderr",
     "output_type": "stream",
     "text": [
      "                                                                                 \r"
     ]
    },
    {
     "data": {
      "text/html": [
       "<video src=\"media/jupyter/plorbit@2024-10-23@15-46-54.mp4\" controls autoplay loop style=\"max-width: 60%;\"  >\n",
       "      Your browser does not support the <code>video</code> element.\n",
       "    </video>"
      ],
      "text/plain": [
       "<IPython.core.display.Video object>"
      ]
     },
     "metadata": {},
     "output_type": "display_data"
    }
   ],
   "source": [
    "%%manim -ql -v WARNING --disable_caching plorbit\n",
    "\n",
    "class plorbit(Scene):\n",
    "    def calculate_axis_ranges(self, points):\n",
    "        \"\"\"\n",
    "        Calculate the x and y axis ranges based on the min and max\n",
    "        values of the orbit points.\n",
    "        \"\"\"\n",
    "        # Extract x and y coordinates\n",
    "        x_values = [h[0] for h in points]\n",
    "        y_values = [h[1] for h in points]\n",
    "\n",
    "        # Calculate min and max for x and y\n",
    "        x_min, x_max = min(x_values), max(x_values)\n",
    "        y_min, y_max = min(y_values), max(y_values)\n",
    "\n",
    "        # Add padding to the axis ranges for better visualization\n",
    "        padding_factor = 0.1  # 10% padding on each side\n",
    "        x_padding = (x_max - x_min) * padding_factor\n",
    "        y_padding = (y_max - y_min) * padding_factor\n",
    "\n",
    "        # Return the padded ranges\n",
    "        return x_min - x_padding, x_max + x_padding, y_min - y_padding, y_max + y_padding\n",
    "    def animate(self,orbit):\n",
    "        # Create axes for the orbit plot\n",
    "        x_min, x_max, y_min, y_max = self.calculate_axis_ranges(orbit)\n",
    "\n",
    "        # Create axes dynamically based on the calculated ranges\n",
    "        axes = Axes(\n",
    "            x_range=[x_min, x_max, (x_max - x_min) / 4],  # Divide into 4 intervals\n",
    "            y_range=[y_min, y_max, (y_max - y_min) / 4],\n",
    "            x_length=6,  # Length in units\n",
    "            y_length=6,\n",
    "            axis_config={\"color\": BLUE}\n",
    "        )\n",
    "        # axes = Axes(\n",
    "        #     x_range=[-2, 2, 0.5], y_range=[-2, 2, 0.5],\n",
    "        #     x_length=6, y_length=6,\n",
    "        #     axis_config={\"color\": BLUE}\n",
    "        # )\n",
    "        labels = axes.get_axis_labels(x_label=\"h1\", y_label=\"h2\")\n",
    "        numberplane = NumberPlane()\n",
    "        self.add(axes, labels)\n",
    "        #self.play(Create(axes), Write(labels))\n",
    "        # Convert the simulated points to Manim points on the 2D plane\n",
    "        orbit_points_manim = [\n",
    "            axes.c2p(orbit[0,i],orbit[1,i]) for i in range(orbit.shape[1])\n",
    "        ]\n",
    "        # Create the orbit as a line with a moving dot\n",
    "        orbit_path = VMobject(color=BLUE)\n",
    "        orbit_path.set_points_as_corners(orbit_points_manim)\n",
    "        moving_dot = Dot(orbit_points_manim[0], color=RED)\n",
    "\n",
    "        # Animation: Draw the orbit path and move the dot along the path\n",
    "        self.play(Create(orbit_path), FadeIn(moving_dot))\n",
    "        self.play(MoveAlongPath(moving_dot, orbit_path), run_time=4, rate_func=linear)\n",
    "\n",
    "        # Hold the final state for a moment\n",
    "        self.wait(2)\n",
    "    def construct(self):\n",
    "        orbit_points = orbit_generate()\n",
    "        self.animate(orbit_points)\n"
   ]
  },
  {
   "cell_type": "markdown",
   "metadata": {},
   "source": [
    "### Better grid orbit evolution"
   ]
  },
  {
   "cell_type": "code",
   "execution_count": 2,
   "metadata": {},
   "outputs": [],
   "source": [
    "def nd_orbit(fnct, x0, it):\n",
    "    \"\"\"\n",
    "    Calculates orbits of n dimensional map\n",
    "    Parameters:\n",
    "    - fnct: Mapping function mapping x0 to x1 taking a single parameter\n",
    "    - x0: Initial value\n",
    "    - it: Number of iterations\n",
    "\n",
    "    Returns: The entire orbit, including the initial value\n",
    "    \"\"\"\n",
    "    orbit = np.zeros((it+1,len(x0)))\n",
    "    orbit[0]=x0\n",
    "    #   Main loop\n",
    "    for i in range(1,it+1):\n",
    "        orbit[i] = fnct(orbit[i-1])\n",
    "    return orbit"
   ]
  },
  {
   "cell_type": "code",
   "execution_count": 8,
   "metadata": {},
   "outputs": [],
   "source": [
    "def activation(x):\n",
    "    \"\"\"The actication  function f(x).\n",
    "    Parameters:\n",
    "    - x: current step\n",
    "    Returns: value of next step\n",
    "    \"\"\"\n",
    "    #return (x+abs(x))/2 #ReLu activation function\n",
    "    #return 1/(1+np.exp(x)) #Sigmoid activation function\n",
    "    return np.tanh(x) #Tanh activation function"
   ]
  },
  {
   "cell_type": "code",
   "execution_count": 4,
   "metadata": {},
   "outputs": [],
   "source": [
    "def neuron_2_discrete(x0, weightM,bias ,Nit=100, ntrans=10):\n",
    "    \"\"\"\n",
    "    Calculates the stable solution of the 2-neuron map.\n",
    "    Parameters:\n",
    "    - x0: Initial value, int\n",
    "    - a: Weights of neurons, np.ndarray (2,2)\n",
    "    - b: Bias of neurons, np.ndarray (2,1)\n",
    "    - Nit: Number of iterations, int\n",
    "    - ntrans: Number of transient steps, int\n",
    "    Returns: An array containing the orbit of the 2-neuron map without transients\n",
    "    \"\"\"\n",
    "\n",
    "    linearmap = lambda x: (weightM @ activation(x) + bias)\n",
    "\n",
    "    #   Calculate orbit\n",
    "    orbit = nd_orbit(linearmap, x0, Nit)\n",
    "    orbit = orbit[ntrans:] #remove the transient \n",
    "    return orbit"
   ]
  },
  {
   "cell_type": "code",
   "execution_count": 9,
   "metadata": {},
   "outputs": [],
   "source": [
    "def orbiter(x0):\n",
    "    \n",
    "    #x0 = -np.array([0.1,0.1])\n",
    "    alpha = 1.3\n",
    "    a = lambda theta: alpha * np.array([[np.cos(theta),np.sin(theta)],\n",
    "                        [-np.sin(theta),np.cos(theta)]])\n",
    "    b = np.array([0.,0.])\n",
    "    orbit = neuron_2_discrete(x0,a(3),b,100,0).T\n",
    "    return orbit\n",
    "def orbitjer(x0):\n",
    "    \n",
    "    #x0 = -np.array([0.1,0.1])\n",
    "    w11, w12 = -10,8\n",
    "    w21 = -6\n",
    "    x0 = np.array([-1,1])\n",
    "\n",
    "    W =  np.array([[w11,w12],\n",
    "                    [w21,0]])\n",
    "    b =  np.array([-3,4])\n",
    "    orbit = neuron_2_discrete(x0,W,b,100,10).T\n",
    "    return orbit"
   ]
  },
  {
   "cell_type": "code",
   "execution_count": 49,
   "metadata": {},
   "outputs": [
    {
     "data": {
      "text/html": [
       "<pre style=\"white-space:pre;overflow-x:auto;line-height:normal;font-family:Menlo,'DejaVu Sans Mono',consolas,'Courier New',monospace\">Manim Community <span style=\"color: #008000; text-decoration-color: #008000\">v0.18.1</span>\n",
       "\n",
       "</pre>\n"
      ],
      "text/plain": [
       "Manim Community \u001b[32mv0.\u001b[0m\u001b[32m18.1\u001b[0m\n",
       "\n"
      ]
     },
     "metadata": {},
     "output_type": "display_data"
    },
    {
     "name": "stderr",
     "output_type": "stream",
     "text": [
      "                                                                                              \r"
     ]
    },
    {
     "data": {
      "text/html": [
       "<video src=\"media/jupyter/TwoNeuronRecurrentNetwork@2024-10-28@22-10-37.mp4\" controls autoplay loop style=\"max-width: 60%;\"  >\n",
       "      Your browser does not support the <code>video</code> element.\n",
       "    </video>"
      ],
      "text/plain": [
       "<IPython.core.display.Video object>"
      ]
     },
     "metadata": {},
     "output_type": "display_data"
    }
   ],
   "source": [
    "%manim -ql -v WARNING --disable_caching TwoNeuronRecurrentNetwork"
   ]
  },
  {
   "cell_type": "code",
   "execution_count": 10,
   "metadata": {},
   "outputs": [
    {
     "data": {
      "image/png": "[encoded data removed]",
      "text/plain": [
       "<Figure size 640x480 with 1 Axes>"
      ]
     },
     "metadata": {},
     "output_type": "display_data"
    }
   ],
   "source": [
    "orbit = orbiter([-.2,.2])\n",
    "plt.scatter(orbit[0,:],orbit[1,:],c='k',s=1)\n",
    "plt.gca().set_aspect('equal')\n"
   ]
  },
  {
   "cell_type": "code",
   "execution_count": 32,
   "metadata": {},
   "outputs": [
    {
     "data": {
      "text/html": [
       "<pre style=\"white-space:pre;overflow-x:auto;line-height:normal;font-family:Menlo,'DejaVu Sans Mono',consolas,'Courier New',monospace\">Manim Community <span style=\"color: #008000; text-decoration-color: #008000\">v0.18.1</span>\n",
       "\n",
       "</pre>\n"
      ],
      "text/plain": [
       "Manim Community \u001b[32mv0.\u001b[0m\u001b[32m18.1\u001b[0m\n",
       "\n"
      ]
     },
     "metadata": {},
     "output_type": "display_data"
    },
    {
     "name": "stderr",
     "output_type": "stream",
     "text": [
      "                                                                                               \r"
     ]
    },
    {
     "data": {
      "text/html": [
       "<video src=\"media/jupyter/TwoNeuronRecurrentNetwork@2024-10-28@22-05-38.mp4\" controls autoplay loop style=\"max-width: 60%;\"  >\n",
       "      Your browser does not support the <code>video</code> element.\n",
       "    </video>"
      ],
      "text/plain": [
       "<IPython.core.display.Video object>"
      ]
     },
     "metadata": {},
     "output_type": "display_data"
    }
   ],
   "source": [
    "%%manim -ql -v WARNING --disable_caching TwoNeuronRecurrentNetwork\n",
    "\n",
    "class TwoNeuronRecurrentNetwork(Scene):\n",
    "    def construct(self):\n",
    "        viridis_cmap = matplotlib.colormaps['viridis']\n",
    "        def point_to_color(x, y):\n",
    "            normed_value = norm(x+y) # Use x-coordinate for color mapping\n",
    "            color = viridis_cmap(normed_value)\n",
    "            return list(color[:3])\n",
    "        x_range = y_range= [-2, 2, 6]  # Start, end, and step size for x-axis\n",
    "        #y_range = [-3, 3, 5]  # Start, end, and step size for y-axis\n",
    "        axis_length = 7  # Length of each axis in the scene\n",
    "        \n",
    "        \n",
    "        # Create axes with specified ranges and length\n",
    "\n",
    "        axes = Axes(\n",
    "            x_range=x_range,\n",
    "            y_range=y_range,\n",
    "            x_length=axis_length,\n",
    "            y_length=axis_length,\n",
    "            axis_config={\"include_numbers\": True}  # Display numbers on axes\n",
    "        )\n",
    "\n",
    "        #self.play(Create(axes))\n",
    "        self.add(axes)\n",
    "        # Step 1: Initialize a grid of dots\n",
    "        grid_size = 20  # Define a 5x5 grid\n",
    "        x_coords = y_coords = np.linspace(-2, 2, grid_size)\n",
    "        normarray = x_coords+y_coords\n",
    "        norm = matplotlib.colors.Normalize(vmin=normarray.min(), vmax=normarray.max())\n",
    "        #y_coords = np.linspace(-2, 2, grid_size)\n",
    "        dotrad = 0.05\n",
    "        # dot = Dot(color=[point_to_color(0,6)])\n",
    "        dots = VGroup(*[Dot(axes.c2p(*(x,y)),radius=dotrad,color=ManimColor.from_rgb(point_to_color(x, y))) for x in x_coords for y in y_coords])\n",
    "        self.play(Create(dots))\n",
    "        self.wait(0.5)\n",
    "\n",
    "        # Step 2: Generate orbits for each dot using the `orbiter` function\n",
    "        orbits = []\n",
    "        for dot in dots:\n",
    "            orbit = orbiter(dot.get_center()[:2]) # Replace with your actual `orbiter` function\n",
    "            \n",
    "            orbits.append(np.concatenate([orbit, np.zeros((1,orbit.shape[1] ))]))\n",
    "        # Step 3: Animate the dots following their respective orbits\n",
    "        num_steps = 30#orbits[0].shape[1]  # Ensure each dot has enough orbit steps\n",
    "        for t in range(num_steps):\n",
    "            #if t == 1: self.wait(3)\n",
    "            for i, dot in enumerate(dots):\n",
    "                \n",
    "                dot.move_to(orbits[i][:,t])  # Move each dot to the next position in its orbit\n",
    "            self.wait(0.2)  # Small pause to visualize each time step\n",
    "    \n"
   ]
  },
  {
   "cell_type": "code",
   "execution_count": 13,
   "metadata": {},
   "outputs": [],
   "source": [
    "# w11, w12 = -16, 4\n",
    "w21 = -6\n",
    "x0 = np.array([-1,1])\n",
    "\n",
    "W = lambda p1,p2: np.array([[p1,p2],\n",
    "                            [w21,0]])\n",
    "b = lambda p1,p2: np.array([-3,4])"
   ]
  },
  {
   "cell_type": "code",
   "execution_count": 16,
   "metadata": {},
   "outputs": [],
   "source": [
    "def orbiter(x0):\n",
    "    \n",
    "    #x0 = -np.array([0.1,0.1])\n",
    "    w11, w12 = -18,8\n",
    "    w21 = -6\n",
    "    x0 = np.array([-1,1])\n",
    "\n",
    "    W =  np.array([[w11,w12],\n",
    "                    [w21,0]])\n",
    "    b =  np.array([-3,4])\n",
    "    orbit = neuron_2_discrete(x0,W,b,100,10).T\n",
    "    return orbit"
   ]
  },
  {
   "cell_type": "code",
   "execution_count": 24,
   "metadata": {},
   "outputs": [
    {
     "data": {
      "image/png": "[encoded data removed]",
      "text/plain": [
       "<Figure size 640x480 with 1 Axes>"
      ]
     },
     "metadata": {},
     "output_type": "display_data"
    }
   ],
   "source": [
    "orbit = orbiter(2)\n",
    "plt.scatter(orbit[0,:],orbit[1,:],c='k',s=1)\n",
    "plt.gca().set_aspect('equal')"
   ]
  }
 ],
 "metadata": {
  "kernelspec": {
   "display_name": "base",
   "language": "python",
   "name": "python3"
  },
  "language_info": {
   "codemirror_mode": {
    "name": "ipython",
    "version": 3
   },
   "file_extension": ".py",
   "mimetype": "text/x-python",
   "name": "python",
   "nbconvert_exporter": "python",
   "pygments_lexer": "ipython3",
   "version": "3.11.5"
  }
 },
 "nbformat": 4,
 "nbformat_minor": 2
}
