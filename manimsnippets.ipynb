{
 "cells": [
  {
   "cell_type": "markdown",
   "metadata": {},
   "source": [
    "### Imports"
   ]
  },
  {
   "cell_type": "code",
   "execution_count": 8,
   "metadata": {},
   "outputs": [],
   "source": [
    "import numpy as np\n",
    "import matplotlib.pyplot as plt\n",
    "from numpy import linalg as LA\n",
    "from ipywidgets import *\n",
    "from manim import *"
   ]
  },
  {
   "cell_type": "markdown",
   "metadata": {},
   "source": [
    "### Crossection color map animation\n"
   ]
  },
  {
   "cell_type": "code",
   "execution_count": 9,
   "metadata": {},
   "outputs": [
    {
     "data": {
      "text/html": [
       "<pre style=\"white-space:pre;overflow-x:auto;line-height:normal;font-family:Menlo,'DejaVu Sans Mono',consolas,'Courier New',monospace\">Manim Community <span style=\"color: #008000; text-decoration-color: #008000\">v0.18.1</span>\n",
       "\n",
       "</pre>\n"
      ],
      "text/plain": [
       "Manim Community \u001b[32mv0.\u001b[0m\u001b[32m18.1\u001b[0m\n",
       "\n"
      ]
     },
     "metadata": {},
     "output_type": "display_data"
    },
    {
     "name": "stderr",
     "output_type": "stream",
     "text": [
      "                                                                                \r"
     ]
    },
    {
     "ename": "KeyboardInterrupt",
     "evalue": "",
     "output_type": "error",
     "traceback": [
      "\u001b[0;31m---------------------------------------------------------------------------\u001b[0m",
      "\u001b[0;31mKeyboardInterrupt\u001b[0m                         Traceback (most recent call last)",
      "Cell \u001b[0;32mIn[9], line 1\u001b[0m\n\u001b[0;32m----> 1\u001b[0m get_ipython()\u001b[38;5;241m.\u001b[39mrun_cell_magic(\u001b[38;5;124m'\u001b[39m\u001b[38;5;124mmanim\u001b[39m\u001b[38;5;124m'\u001b[39m, \u001b[38;5;124m'\u001b[39m\u001b[38;5;124m-ql -v WARNING --disable_caching ColorMapCrossSection\u001b[39m\u001b[38;5;124m'\u001b[39m, \u001b[38;5;124m'\u001b[39m\u001b[38;5;124m#creates animation of crosssections fadind into each other\u001b[39m\u001b[38;5;130;01m\\n\u001b[39;00m\u001b[38;5;130;01m\\n\u001b[39;00m\u001b[38;5;130;01m\\n\u001b[39;00m\u001b[38;5;124mclass ColorMapCrossSection(Scene):\u001b[39m\u001b[38;5;130;01m\\n\u001b[39;00m\u001b[38;5;124m    def construct(self):\u001b[39m\u001b[38;5;130;01m\\n\u001b[39;00m\u001b[38;5;124m        \u001b[39m\u001b[38;5;130;01m\\n\u001b[39;00m\u001b[38;5;124m        #data array goes in here shape= (x,y,z) where z is the time axis\u001b[39m\u001b[38;5;130;01m\\n\u001b[39;00m\u001b[38;5;124m        # Generate 3D array data with random integers between 1 and 5\u001b[39m\u001b[38;5;130;01m\\n\u001b[39;00m\u001b[38;5;124m        x_size, y_size, z_size = 300, 300, 50\u001b[39m\u001b[38;5;130;01m\\n\u001b[39;00m\u001b[38;5;124m        data = np.random.randint(1, 3, (x_size, y_size, z_size))\u001b[39m\u001b[38;5;130;01m\\n\u001b[39;00m\u001b[38;5;124m        \u001b[39m\u001b[38;5;130;01m\\n\u001b[39;00m\u001b[38;5;124m        #creates the images (can be done outside of scene if correct naming is used)\u001b[39m\u001b[38;5;130;01m\\n\u001b[39;00m\u001b[38;5;124m        # Function to generate a color map from 2D data and save it as an image\u001b[39m\u001b[38;5;130;01m\\n\u001b[39;00m\u001b[38;5;124m        def create_colormap_image(data_slice, z_index):\u001b[39m\u001b[38;5;130;01m\\n\u001b[39;00m\u001b[38;5;124m            plt.imshow(data_slice, cmap=\u001b[39m\u001b[38;5;130;01m\\'\u001b[39;00m\u001b[38;5;124mviridis\u001b[39m\u001b[38;5;130;01m\\'\u001b[39;00m\u001b[38;5;124m, vmin=1, vmax=5)\u001b[39m\u001b[38;5;130;01m\\n\u001b[39;00m\u001b[38;5;124m            plt.axis(\u001b[39m\u001b[38;5;130;01m\\'\u001b[39;00m\u001b[38;5;124moff\u001b[39m\u001b[38;5;130;01m\\'\u001b[39;00m\u001b[38;5;124m)  # Remove axis\u001b[39m\u001b[38;5;130;01m\\n\u001b[39;00m\u001b[38;5;124m            # Save the plot as an image\u001b[39m\u001b[38;5;130;01m\\n\u001b[39;00m\u001b[38;5;124m            plt.savefig(f\u001b[39m\u001b[38;5;124m\"\u001b[39m\u001b[38;5;124mjunk/slice_\u001b[39m\u001b[38;5;132;01m{z_index}\u001b[39;00m\u001b[38;5;124m.png\u001b[39m\u001b[38;5;124m\"\u001b[39m\u001b[38;5;124m, bbox_inches=\u001b[39m\u001b[38;5;130;01m\\'\u001b[39;00m\u001b[38;5;124mtight\u001b[39m\u001b[38;5;130;01m\\'\u001b[39;00m\u001b[38;5;124m, pad_inches=0)\u001b[39m\u001b[38;5;130;01m\\n\u001b[39;00m\u001b[38;5;124m            plt.close()\u001b[39m\u001b[38;5;130;01m\\n\u001b[39;00m\u001b[38;5;130;01m\\n\u001b[39;00m\u001b[38;5;124m        # Create color map images for each slice along the z-axis\u001b[39m\u001b[38;5;130;01m\\n\u001b[39;00m\u001b[38;5;124m        for z_slice in range(z_size):\u001b[39m\u001b[38;5;130;01m\\n\u001b[39;00m\u001b[38;5;124m            create_colormap_image(data[:, :, z_slice], z_slice)\u001b[39m\u001b[38;5;130;01m\\n\u001b[39;00m\u001b[38;5;130;01m\\n\u001b[39;00m\u001b[38;5;124m        ## mAnimation\u001b[39m\u001b[38;5;130;01m\\n\u001b[39;00m\u001b[38;5;124m        # Load the first image to display it\u001b[39m\u001b[38;5;130;01m\\n\u001b[39;00m\u001b[38;5;124m        #starting image\u001b[39m\u001b[38;5;130;01m\\n\u001b[39;00m\u001b[38;5;124m        run_time = 0.2 #speed of transitions\u001b[39m\u001b[38;5;130;01m\\n\u001b[39;00m\u001b[38;5;124m        #wait_time = 2 #time between transitions (not needed)\u001b[39m\u001b[38;5;130;01m\\n\u001b[39;00m\u001b[38;5;124m        image_mobject = ImageMobject(\u001b[39m\u001b[38;5;124m\"\u001b[39m\u001b[38;5;124mjunk/slice_0.png\u001b[39m\u001b[38;5;124m\"\u001b[39m\u001b[38;5;124m).scale(3)  # Scale to desired size\u001b[39m\u001b[38;5;130;01m\\n\u001b[39;00m\u001b[38;5;124m        self.play(FadeIn(image_mobject),run_time=run_time)  # Show the first slice\u001b[39m\u001b[38;5;130;01m\\n\u001b[39;00m\u001b[38;5;124m        # self.wait(wait_time)\u001b[39m\u001b[38;5;130;01m\\n\u001b[39;00m\u001b[38;5;130;01m\\n\u001b[39;00m\u001b[38;5;124m        # Transition through the z slices\u001b[39m\u001b[38;5;130;01m\\n\u001b[39;00m\u001b[38;5;124m        for z_slice in range(1, z_size):\u001b[39m\u001b[38;5;130;01m\\n\u001b[39;00m\u001b[38;5;124m            new_image_mobject = ImageMobject(f\u001b[39m\u001b[38;5;124m\"\u001b[39m\u001b[38;5;124mjunk/slice_\u001b[39m\u001b[38;5;132;01m{z_slice}\u001b[39;00m\u001b[38;5;124m.png\u001b[39m\u001b[38;5;124m\"\u001b[39m\u001b[38;5;124m).scale(3)\u001b[39m\u001b[38;5;130;01m\\n\u001b[39;00m\u001b[38;5;124m            self.play(Transform(image_mobject, new_image_mobject),run_time=run_time) \u001b[39m\u001b[38;5;130;01m\\n\u001b[39;00m\u001b[38;5;124m            #self.wait(wait_time)  # Pause to observe each slice\u001b[39m\u001b[38;5;130;01m\\n\u001b[39;00m\u001b[38;5;130;01m\\n\u001b[39;00m\u001b[38;5;124m        self.wait(2) #display end for a little lnger\u001b[39m\u001b[38;5;130;01m\\n\u001b[39;00m\u001b[38;5;124m'\u001b[39m)\n",
      "File \u001b[0;32m/Applications/anaconda3/lib/python3.11/site-packages/IPython/core/interactiveshell.py:2493\u001b[0m, in \u001b[0;36mInteractiveShell.run_cell_magic\u001b[0;34m(self, magic_name, line, cell)\u001b[0m\n\u001b[1;32m   2491\u001b[0m \u001b[38;5;28;01mwith\u001b[39;00m \u001b[38;5;28mself\u001b[39m\u001b[38;5;241m.\u001b[39mbuiltin_trap:\n\u001b[1;32m   2492\u001b[0m     args \u001b[38;5;241m=\u001b[39m (magic_arg_s, cell)\n\u001b[0;32m-> 2493\u001b[0m     result \u001b[38;5;241m=\u001b[39m fn(\u001b[38;5;241m*\u001b[39margs, \u001b[38;5;241m*\u001b[39m\u001b[38;5;241m*\u001b[39mkwargs)\n\u001b[1;32m   2495\u001b[0m \u001b[38;5;66;03m# The code below prevents the output from being displayed\u001b[39;00m\n\u001b[1;32m   2496\u001b[0m \u001b[38;5;66;03m# when using magics with decorator @output_can_be_silenced\u001b[39;00m\n\u001b[1;32m   2497\u001b[0m \u001b[38;5;66;03m# when the last Python token in the expression is a ';'.\u001b[39;00m\n\u001b[1;32m   2498\u001b[0m \u001b[38;5;28;01mif\u001b[39;00m \u001b[38;5;28mgetattr\u001b[39m(fn, magic\u001b[38;5;241m.\u001b[39mMAGIC_OUTPUT_CAN_BE_SILENCED, \u001b[38;5;28;01mFalse\u001b[39;00m):\n",
      "File \u001b[0;32m/Applications/anaconda3/lib/python3.11/site-packages/manim/utils/ipython_magic.py:143\u001b[0m, in \u001b[0;36mManimMagic.manim\u001b[0;34m(self, line, cell, local_ns)\u001b[0m\n\u001b[1;32m    141\u001b[0m     SceneClass \u001b[38;5;241m=\u001b[39m local_ns[config[\u001b[38;5;124m\"\u001b[39m\u001b[38;5;124mscene_names\u001b[39m\u001b[38;5;124m\"\u001b[39m][\u001b[38;5;241m0\u001b[39m]]\n\u001b[1;32m    142\u001b[0m     scene \u001b[38;5;241m=\u001b[39m SceneClass(renderer\u001b[38;5;241m=\u001b[39mrenderer)\n\u001b[0;32m--> 143\u001b[0m     scene\u001b[38;5;241m.\u001b[39mrender()\n\u001b[1;32m    144\u001b[0m \u001b[38;5;28;01mfinally\u001b[39;00m:\n\u001b[1;32m    145\u001b[0m     \u001b[38;5;66;03m# Shader cache becomes invalid as the context is destroyed\u001b[39;00m\n\u001b[1;32m    146\u001b[0m     shader_program_cache\u001b[38;5;241m.\u001b[39mclear()\n",
      "File \u001b[0;32m/Applications/anaconda3/lib/python3.11/site-packages/manim/scene/scene.py:229\u001b[0m, in \u001b[0;36mScene.render\u001b[0;34m(self, preview)\u001b[0m\n\u001b[1;32m    227\u001b[0m \u001b[38;5;28mself\u001b[39m\u001b[38;5;241m.\u001b[39msetup()\n\u001b[1;32m    228\u001b[0m \u001b[38;5;28;01mtry\u001b[39;00m:\n\u001b[0;32m--> 229\u001b[0m     \u001b[38;5;28mself\u001b[39m\u001b[38;5;241m.\u001b[39mconstruct()\n\u001b[1;32m    230\u001b[0m \u001b[38;5;28;01mexcept\u001b[39;00m EndSceneEarlyException:\n\u001b[1;32m    231\u001b[0m     \u001b[38;5;28;01mpass\u001b[39;00m\n",
      "File \u001b[0;32m<string>:37\u001b[0m, in \u001b[0;36mconstruct\u001b[0;34m(self)\u001b[0m\n",
      "File \u001b[0;32m/Applications/anaconda3/lib/python3.11/site-packages/manim/scene/scene.py:1092\u001b[0m, in \u001b[0;36mScene.play\u001b[0;34m(self, subcaption, subcaption_duration, subcaption_offset, *args, **kwargs)\u001b[0m\n\u001b[1;32m   1089\u001b[0m     \u001b[38;5;28;01mreturn\u001b[39;00m\n\u001b[1;32m   1091\u001b[0m start_time \u001b[38;5;241m=\u001b[39m \u001b[38;5;28mself\u001b[39m\u001b[38;5;241m.\u001b[39mrenderer\u001b[38;5;241m.\u001b[39mtime\n\u001b[0;32m-> 1092\u001b[0m \u001b[38;5;28mself\u001b[39m\u001b[38;5;241m.\u001b[39mrenderer\u001b[38;5;241m.\u001b[39mplay(\u001b[38;5;28mself\u001b[39m, \u001b[38;5;241m*\u001b[39margs, \u001b[38;5;241m*\u001b[39m\u001b[38;5;241m*\u001b[39mkwargs)\n\u001b[1;32m   1093\u001b[0m run_time \u001b[38;5;241m=\u001b[39m \u001b[38;5;28mself\u001b[39m\u001b[38;5;241m.\u001b[39mrenderer\u001b[38;5;241m.\u001b[39mtime \u001b[38;5;241m-\u001b[39m start_time\n\u001b[1;32m   1094\u001b[0m \u001b[38;5;28;01mif\u001b[39;00m subcaption:\n",
      "File \u001b[0;32m/Applications/anaconda3/lib/python3.11/site-packages/manim/renderer/cairo_renderer.py:115\u001b[0m, in \u001b[0;36mCairoRenderer.play\u001b[0;34m(self, scene, *args, **kwargs)\u001b[0m\n\u001b[1;32m    113\u001b[0m \u001b[38;5;28;01melse\u001b[39;00m:\n\u001b[1;32m    114\u001b[0m     scene\u001b[38;5;241m.\u001b[39mplay_internal()\n\u001b[0;32m--> 115\u001b[0m \u001b[38;5;28mself\u001b[39m\u001b[38;5;241m.\u001b[39mfile_writer\u001b[38;5;241m.\u001b[39mend_animation(\u001b[38;5;129;01mnot\u001b[39;00m \u001b[38;5;28mself\u001b[39m\u001b[38;5;241m.\u001b[39mskip_animations)\n\u001b[1;32m    117\u001b[0m \u001b[38;5;28mself\u001b[39m\u001b[38;5;241m.\u001b[39mnum_plays \u001b[38;5;241m+\u001b[39m\u001b[38;5;241m=\u001b[39m \u001b[38;5;241m1\u001b[39m\n",
      "File \u001b[0;32m/Applications/anaconda3/lib/python3.11/site-packages/manim/scene/scene_file_writer.py:374\u001b[0m, in \u001b[0;36mSceneFileWriter.end_animation\u001b[0;34m(self, allow_write)\u001b[0m\n\u001b[1;32m    364\u001b[0m \u001b[38;5;250m\u001b[39m\u001b[38;5;124;03m\"\"\"\u001b[39;00m\n\u001b[1;32m    365\u001b[0m \u001b[38;5;124;03mInternally used by Manim to stop streaming to\u001b[39;00m\n\u001b[1;32m    366\u001b[0m \u001b[38;5;124;03mFFMPEG gracefully.\u001b[39;00m\n\u001b[0;32m   (...)\u001b[0m\n\u001b[1;32m    371\u001b[0m \u001b[38;5;124;03m    Whether or not to write to a video file.\u001b[39;00m\n\u001b[1;32m    372\u001b[0m \u001b[38;5;124;03m\"\"\"\u001b[39;00m\n\u001b[1;32m    373\u001b[0m \u001b[38;5;28;01mif\u001b[39;00m write_to_movie() \u001b[38;5;129;01mand\u001b[39;00m allow_write:\n\u001b[0;32m--> 374\u001b[0m     \u001b[38;5;28mself\u001b[39m\u001b[38;5;241m.\u001b[39mclose_movie_pipe()\n",
      "File \u001b[0;32m/Applications/anaconda3/lib/python3.11/site-packages/manim/scene/scene_file_writer.py:525\u001b[0m, in \u001b[0;36mSceneFileWriter.close_movie_pipe\u001b[0;34m(self)\u001b[0m\n\u001b[1;32m    521\u001b[0m \u001b[38;5;250m\u001b[39m\u001b[38;5;124;03m\"\"\"\u001b[39;00m\n\u001b[1;32m    522\u001b[0m \u001b[38;5;124;03mUsed internally by Manim to gracefully stop writing to FFMPEG's input buffer\u001b[39;00m\n\u001b[1;32m    523\u001b[0m \u001b[38;5;124;03m\"\"\"\u001b[39;00m\n\u001b[1;32m    524\u001b[0m \u001b[38;5;28mself\u001b[39m\u001b[38;5;241m.\u001b[39mwriting_process\u001b[38;5;241m.\u001b[39mstdin\u001b[38;5;241m.\u001b[39mclose()\n\u001b[0;32m--> 525\u001b[0m \u001b[38;5;28mself\u001b[39m\u001b[38;5;241m.\u001b[39mwriting_process\u001b[38;5;241m.\u001b[39mwait()\n\u001b[1;32m    527\u001b[0m logger\u001b[38;5;241m.\u001b[39minfo(\n\u001b[1;32m    528\u001b[0m     \u001b[38;5;124mf\u001b[39m\u001b[38;5;124m\"\u001b[39m\u001b[38;5;124mAnimation \u001b[39m\u001b[38;5;132;01m{\u001b[39;00m\u001b[38;5;28mself\u001b[39m\u001b[38;5;241m.\u001b[39mrenderer\u001b[38;5;241m.\u001b[39mnum_plays\u001b[38;5;132;01m}\u001b[39;00m\u001b[38;5;124m : Partial movie file written in %(path)s\u001b[39m\u001b[38;5;124m\"\u001b[39m,\n\u001b[1;32m    529\u001b[0m     {\u001b[38;5;124m\"\u001b[39m\u001b[38;5;124mpath\u001b[39m\u001b[38;5;124m\"\u001b[39m: \u001b[38;5;124mf\u001b[39m\u001b[38;5;124m\"\u001b[39m\u001b[38;5;124m'\u001b[39m\u001b[38;5;132;01m{\u001b[39;00m\u001b[38;5;28mself\u001b[39m\u001b[38;5;241m.\u001b[39mpartial_movie_file_path\u001b[38;5;132;01m}\u001b[39;00m\u001b[38;5;124m'\u001b[39m\u001b[38;5;124m\"\u001b[39m},\n\u001b[1;32m    530\u001b[0m )\n",
      "File \u001b[0;32m/Applications/anaconda3/lib/python3.11/subprocess.py:1264\u001b[0m, in \u001b[0;36mPopen.wait\u001b[0;34m(self, timeout)\u001b[0m\n\u001b[1;32m   1262\u001b[0m     endtime \u001b[38;5;241m=\u001b[39m _time() \u001b[38;5;241m+\u001b[39m timeout\n\u001b[1;32m   1263\u001b[0m \u001b[38;5;28;01mtry\u001b[39;00m:\n\u001b[0;32m-> 1264\u001b[0m     \u001b[38;5;28;01mreturn\u001b[39;00m \u001b[38;5;28mself\u001b[39m\u001b[38;5;241m.\u001b[39m_wait(timeout\u001b[38;5;241m=\u001b[39mtimeout)\n\u001b[1;32m   1265\u001b[0m \u001b[38;5;28;01mexcept\u001b[39;00m \u001b[38;5;167;01mKeyboardInterrupt\u001b[39;00m:\n\u001b[1;32m   1266\u001b[0m     \u001b[38;5;66;03m# https://bugs.python.org/issue25942\u001b[39;00m\n\u001b[1;32m   1267\u001b[0m     \u001b[38;5;66;03m# The first keyboard interrupt waits briefly for the child to\u001b[39;00m\n\u001b[1;32m   1268\u001b[0m     \u001b[38;5;66;03m# exit under the common assumption that it also received the ^C\u001b[39;00m\n\u001b[1;32m   1269\u001b[0m     \u001b[38;5;66;03m# generated SIGINT and will exit rapidly.\u001b[39;00m\n\u001b[1;32m   1270\u001b[0m     \u001b[38;5;28;01mif\u001b[39;00m timeout \u001b[38;5;129;01mis\u001b[39;00m \u001b[38;5;129;01mnot\u001b[39;00m \u001b[38;5;28;01mNone\u001b[39;00m:\n",
      "File \u001b[0;32m/Applications/anaconda3/lib/python3.11/subprocess.py:2046\u001b[0m, in \u001b[0;36mPopen._wait\u001b[0;34m(self, timeout)\u001b[0m\n\u001b[1;32m   2044\u001b[0m \u001b[38;5;28;01mif\u001b[39;00m \u001b[38;5;28mself\u001b[39m\u001b[38;5;241m.\u001b[39mreturncode \u001b[38;5;129;01mis\u001b[39;00m \u001b[38;5;129;01mnot\u001b[39;00m \u001b[38;5;28;01mNone\u001b[39;00m:\n\u001b[1;32m   2045\u001b[0m     \u001b[38;5;28;01mbreak\u001b[39;00m  \u001b[38;5;66;03m# Another thread waited.\u001b[39;00m\n\u001b[0;32m-> 2046\u001b[0m (pid, sts) \u001b[38;5;241m=\u001b[39m \u001b[38;5;28mself\u001b[39m\u001b[38;5;241m.\u001b[39m_try_wait(\u001b[38;5;241m0\u001b[39m)\n\u001b[1;32m   2047\u001b[0m \u001b[38;5;66;03m# Check the pid and loop as waitpid has been known to\u001b[39;00m\n\u001b[1;32m   2048\u001b[0m \u001b[38;5;66;03m# return 0 even without WNOHANG in odd situations.\u001b[39;00m\n\u001b[1;32m   2049\u001b[0m \u001b[38;5;66;03m# http://bugs.python.org/issue14396.\u001b[39;00m\n\u001b[1;32m   2050\u001b[0m \u001b[38;5;28;01mif\u001b[39;00m pid \u001b[38;5;241m==\u001b[39m \u001b[38;5;28mself\u001b[39m\u001b[38;5;241m.\u001b[39mpid:\n",
      "File \u001b[0;32m/Applications/anaconda3/lib/python3.11/subprocess.py:2004\u001b[0m, in \u001b[0;36mPopen._try_wait\u001b[0;34m(self, wait_flags)\u001b[0m\n\u001b[1;32m   2002\u001b[0m \u001b[38;5;250m\u001b[39m\u001b[38;5;124;03m\"\"\"All callers to this function MUST hold self._waitpid_lock.\"\"\"\u001b[39;00m\n\u001b[1;32m   2003\u001b[0m \u001b[38;5;28;01mtry\u001b[39;00m:\n\u001b[0;32m-> 2004\u001b[0m     (pid, sts) \u001b[38;5;241m=\u001b[39m os\u001b[38;5;241m.\u001b[39mwaitpid(\u001b[38;5;28mself\u001b[39m\u001b[38;5;241m.\u001b[39mpid, wait_flags)\n\u001b[1;32m   2005\u001b[0m \u001b[38;5;28;01mexcept\u001b[39;00m \u001b[38;5;167;01mChildProcessError\u001b[39;00m:\n\u001b[1;32m   2006\u001b[0m     \u001b[38;5;66;03m# This happens if SIGCLD is set to be ignored or waiting\u001b[39;00m\n\u001b[1;32m   2007\u001b[0m     \u001b[38;5;66;03m# for child processes has otherwise been disabled for our\u001b[39;00m\n\u001b[1;32m   2008\u001b[0m     \u001b[38;5;66;03m# process.  This child is dead, we can't get the status.\u001b[39;00m\n\u001b[1;32m   2009\u001b[0m     pid \u001b[38;5;241m=\u001b[39m \u001b[38;5;28mself\u001b[39m\u001b[38;5;241m.\u001b[39mpid\n",
      "\u001b[0;31mKeyboardInterrupt\u001b[0m: "
     ]
    }
   ],
   "source": [
    "%%manim -ql -v WARNING --disable_caching ColorMapCrossSection\n",
    "#creates animation of crosssections fadind into each other\n",
    "\n",
    "\n",
    "class ColorMapCrossSection(Scene):\n",
    "    def construct(self):\n",
    "        \n",
    "        #data array goes in here shape= (x,y,z) where z is the time axis\n",
    "        # Generate 3D array data with random integers between 1 and 5\n",
    "        x_size, y_size, z_size = 300, 300, 50\n",
    "        data = np.random.randint(1, 3, (x_size, y_size, z_size))\n",
    "        \n",
    "        #creates the images (can be done outside of scene if correct naming is used)\n",
    "        # Function to generate a color map from 2D data and save it as an image\n",
    "        def create_colormap_image(data_slice, z_index):\n",
    "            plt.imshow(data_slice, cmap='viridis', vmin=1, vmax=5)\n",
    "            plt.axis('off')  # Remove axis\n",
    "            # Save the plot as an image\n",
    "            plt.savefig(f\"junk/slice_{z_index}.png\", bbox_inches='tight', pad_inches=0)\n",
    "            plt.close()\n",
    "\n",
    "        # Create color map images for each slice along the z-axis\n",
    "        for z_slice in range(z_size):\n",
    "            create_colormap_image(data[:, :, z_slice], z_slice)\n",
    "\n",
    "        ## mAnimation\n",
    "        # Load the first image to display it\n",
    "        #starting image\n",
    "        run_time = 0.2 #speed of transitions\n",
    "        #wait_time = 2 #time between transitions (not needed)\n",
    "        image_mobject = ImageMobject(\"junk/slice_0.png\").scale(3)  # Scale to desired size\n",
    "        self.play(FadeIn(image_mobject),run_time=run_time)  # Show the first slice\n",
    "        # self.wait(wait_time)\n",
    "\n",
    "        # Transition through the z slices\n",
    "        for z_slice in range(1, z_size):\n",
    "            new_image_mobject = ImageMobject(f\"junk/slice_{z_slice}.png\").scale(3)\n",
    "            self.play(Transform(image_mobject, new_image_mobject),run_time=run_time) \n",
    "            #self.wait(wait_time)  # Pause to observe each slice\n",
    "\n",
    "        self.wait(2) #display end for a little lnger\n"
   ]
  },
  {
   "cell_type": "markdown",
   "metadata": {},
   "source": [
    "### Orbit plot"
   ]
  },
  {
   "cell_type": "markdown",
   "metadata": {},
   "source": [
    "#### Creates example orbit"
   ]
  },
  {
   "cell_type": "code",
   "execution_count": 10,
   "metadata": {},
   "outputs": [],
   "source": [
    "#import needed: numpy, pyplot, plotLayout\n",
    "def nd_orbit(fnct, x0, it):\n",
    "    # calculates orbits of n dimensional map\n",
    "    # Where:\n",
    "    #- param fnct: Mapping function mapping x0 to x1 taking a single parameter\n",
    "    #- param x0: Initial value\n",
    "    #- param it: Number of iterations\n",
    "    #- returns: The entire orbit, including the initial value\n",
    "    #   Initialize\n",
    "    orbit = np.zeros((len(x0),it))\n",
    "    orbit[:,0]=x0\n",
    "    #   Main loop\n",
    "    for i in range(it-1):\n",
    "        orbit[:,i+1] = fnct(orbit[:,i])\n",
    "    return orbit"
   ]
  },
  {
   "cell_type": "code",
   "execution_count": 11,
   "metadata": {},
   "outputs": [],
   "source": [
    "def activation(x):\n",
    "    #the actication  function f()\n",
    "    #return (x+abs(x))/2 #ReLu\n",
    "    return 1/(1+np.exp(-x)) #sigmoid \n",
    "    #return np.tanh(x) #tanh"
   ]
  },
  {
   "cell_type": "code",
   "execution_count": 12,
   "metadata": {},
   "outputs": [],
   "source": [
    "#import needed: numpy, pyplot, plotLayout, nd_orbit\n",
    "def neuron_2_discrete(x0,a,b,alpha ,Nit, ntrans):\n",
    "    # calculates stable solution henon map\n",
    "    # Where:\n",
    "    #- param x0: Initial value\n",
    "    #- param a: Parameters of Henon map, being [a,b] in the standard expression\n",
    "    #- returns: An array containing the orbit of the Henon map without transients\n",
    "\n",
    "    #   Initialize  \n",
    "    linearmap = lambda xy: alpha * (a @ activation(xy) + b)\n",
    "    n_iter = Nit\n",
    "    # n_steps_until_stable = 100\n",
    "\n",
    "    #   Calculate orbit\n",
    "    orbit = nd_orbit(linearmap, x0, n_iter)\n",
    "    orbit = orbit[:, ntrans+1:] #remove the transient (+1 to also remove initial condition)\n",
    "    return orbit\n"
   ]
  },
  {
   "cell_type": "code",
   "execution_count": 14,
   "metadata": {},
   "outputs": [],
   "source": [
    "def orbit_generate():\n",
    "    x0 = -np.array([0.1,0.1])\n",
    "    w11 = -10\n",
    "    w12 = 5.9\n",
    "    a = np.array([[w11,w12],\n",
    "                [-6.6,0]])\n",
    "    b = np.array([-3.8,3])\n",
    "    alpha = 1\n",
    "    orbit = neuron_2_discrete(x0,a,b,alpha,20,0)\n",
    "    return orbit"
   ]
  },
  {
   "cell_type": "markdown",
   "metadata": {},
   "source": [
    "#### Manimation"
   ]
  },
  {
   "cell_type": "code",
   "execution_count": 19,
   "metadata": {},
   "outputs": [
    {
     "data": {
      "text/html": [
       "<pre style=\"white-space:pre;overflow-x:auto;line-height:normal;font-family:Menlo,'DejaVu Sans Mono',consolas,'Courier New',monospace\">Manim Community <span style=\"color: #008000; text-decoration-color: #008000\">v0.18.1</span>\n",
       "\n",
       "</pre>\n"
      ],
      "text/plain": [
       "Manim Community \u001b[32mv0.\u001b[0m\u001b[32m18.1\u001b[0m\n",
       "\n"
      ]
     },
     "metadata": {},
     "output_type": "display_data"
    },
    {
     "name": "stderr",
     "output_type": "stream",
     "text": [
      "                                                                                 \r"
     ]
    },
    {
     "data": {
      "text/html": [
       "<video src=\"media/jupyter/plorbit@2024-10-23@15-46-54.mp4\" controls autoplay loop style=\"max-width: 60%;\"  >\n",
       "      Your browser does not support the <code>video</code> element.\n",
       "    </video>"
      ],
      "text/plain": [
       "<IPython.core.display.Video object>"
      ]
     },
     "metadata": {},
     "output_type": "display_data"
    }
   ],
   "source": [
    "%%manim -ql -v WARNING --disable_caching plorbit\n",
    "\n",
    "class plorbit(Scene):\n",
    "    def calculate_axis_ranges(self, points):\n",
    "        \"\"\"\n",
    "        Calculate the x and y axis ranges based on the min and max\n",
    "        values of the orbit points.\n",
    "        \"\"\"\n",
    "        # Extract x and y coordinates\n",
    "        x_values = [h[0] for h in points]\n",
    "        y_values = [h[1] for h in points]\n",
    "\n",
    "        # Calculate min and max for x and y\n",
    "        x_min, x_max = min(x_values), max(x_values)\n",
    "        y_min, y_max = min(y_values), max(y_values)\n",
    "\n",
    "        # Add padding to the axis ranges for better visualization\n",
    "        padding_factor = 0.1  # 10% padding on each side\n",
    "        x_padding = (x_max - x_min) * padding_factor\n",
    "        y_padding = (y_max - y_min) * padding_factor\n",
    "\n",
    "        # Return the padded ranges\n",
    "        return x_min - x_padding, x_max + x_padding, y_min - y_padding, y_max + y_padding\n",
    "    def animate(self,orbit):\n",
    "        # Create axes for the orbit plot\n",
    "        x_min, x_max, y_min, y_max = self.calculate_axis_ranges(orbit)\n",
    "\n",
    "        # Create axes dynamically based on the calculated ranges\n",
    "        axes = Axes(\n",
    "            x_range=[x_min, x_max, (x_max - x_min) / 4],  # Divide into 4 intervals\n",
    "            y_range=[y_min, y_max, (y_max - y_min) / 4],\n",
    "            x_length=6,  # Length in units\n",
    "            y_length=6,\n",
    "            axis_config={\"color\": BLUE}\n",
    "        )\n",
    "        # axes = Axes(\n",
    "        #     x_range=[-2, 2, 0.5], y_range=[-2, 2, 0.5],\n",
    "        #     x_length=6, y_length=6,\n",
    "        #     axis_config={\"color\": BLUE}\n",
    "        # )\n",
    "        labels = axes.get_axis_labels(x_label=\"h1\", y_label=\"h2\")\n",
    "        numberplane = NumberPlane()\n",
    "        self.add(axes, labels)\n",
    "        #self.play(Create(axes), Write(labels))\n",
    "        # Convert the simulated points to Manim points on the 2D plane\n",
    "        orbit_points_manim = [\n",
    "            axes.c2p(orbit[0,i],orbit[1,i]) for i in range(orbit.shape[1])\n",
    "        ]\n",
    "        # Create the orbit as a line with a moving dot\n",
    "        orbit_path = VMobject(color=BLUE)\n",
    "        orbit_path.set_points_as_corners(orbit_points_manim)\n",
    "        moving_dot = Dot(orbit_points_manim[0], color=RED)\n",
    "\n",
    "        # Animation: Draw the orbit path and move the dot along the path\n",
    "        self.play(Create(orbit_path), FadeIn(moving_dot))\n",
    "        self.play(MoveAlongPath(moving_dot, orbit_path), run_time=4, rate_func=linear)\n",
    "\n",
    "        # Hold the final state for a moment\n",
    "        self.wait(2)\n",
    "    def construct(self):\n",
    "        orbit_points = orbit_generate()\n",
    "        self.animate(orbit_points)\n"
   ]
  }
 ],
 "metadata": {
  "kernelspec": {
   "display_name": "base",
   "language": "python",
   "name": "python3"
  },
  "language_info": {
   "codemirror_mode": {
    "name": "ipython",
    "version": 3
   },
   "file_extension": ".py",
   "mimetype": "text/x-python",
   "name": "python",
   "nbconvert_exporter": "python",
   "pygments_lexer": "ipython3",
   "version": "3.11.5"
  }
 },
 "nbformat": 4,
 "nbformat_minor": 2
}
