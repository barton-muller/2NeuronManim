{
 "cells": [
  {
   "cell_type": "markdown",
   "metadata": {},
   "source": [
    "### Imports"
   ]
  },
  {
   "cell_type": "code",
   "execution_count": 218,
   "metadata": {},
   "outputs": [],
   "source": [
    "import numpy as np\n",
    "import matplotlib.pyplot as plt\n",
    "import matplotlib.colors \n",
    "import matplotlib.cm\n",
    "from numpy import linalg as LA\n",
    "from ipywidgets import *\n",
    "from manim import *"
   ]
  },
  {
   "cell_type": "code",
   "execution_count": 219,
   "metadata": {},
   "outputs": [
    {
     "ename": "SyntaxError",
     "evalue": "invalid syntax (3319058519.py, line 1)",
     "output_type": "error",
     "traceback": [
      "\u001b[0;36m  Cell \u001b[0;32mIn[219], line 1\u001b[0;36m\u001b[0m\n\u001b[0;31m    stop!\u001b[0m\n\u001b[0m        ^\u001b[0m\n\u001b[0;31mSyntaxError\u001b[0m\u001b[0;31m:\u001b[0m invalid syntax\n"
     ]
    }
   ],
   "source": [
    "stop!"
   ]
  },
  {
   "cell_type": "markdown",
   "metadata": {},
   "source": [
    "### Crossection color map animation\n"
   ]
  },
  {
   "cell_type": "code",
   "execution_count": 214,
   "metadata": {},
   "outputs": [],
   "source": [
    "#%%manim -ql -v WARNING --disable_caching ColorMapCrossSection\n",
    "#creates animation of crosssections fadind into each other\n",
    "\n",
    "class ColorMapCrossSection(Scene):\n",
    "    def construct(self):\n",
    "        \n",
    "        #data array goes in here shape= (x,y,z) where z is the time axis\n",
    "        # Generate 3D array data with random integers between 1 and 5\n",
    "        z_size = noframes\n",
    "        ## mAnimation\n",
    "        # Load the first image to display it\n",
    "        #starting image\n",
    "        run_time = 0.1 #speed of transitions\n",
    "        #wait_time = 2 #time between transitions (not needed)\n",
    "        image_mobject = ImageMobject(\"junk/slice_0.png\").scale(3)  # Scale to desired size\n",
    "        self.play(FadeIn(image_mobject),run_time=run_time)  # Show the first slice\n",
    "        # self.wait(wait_time)\n",
    "\n",
    "        # Transition through the z slices\n",
    "        for z_slice in range(1, z_size):\n",
    "            new_image_mobject = ImageMobject(f\"junk/slice_{z_slice}.png\").scale(3)\n",
    "            self.play(Transform(image_mobject, new_image_mobject),run_time=run_time) \n",
    "            #self.wait(wait_time)  # Pause to observe each slice\n",
    "\n",
    "        self.wait(2) #display end for a little lnger\n"
   ]
  },
  {
   "cell_type": "code",
   "execution_count": 215,
   "metadata": {},
   "outputs": [
    {
     "data": {
      "text/html": [
       "<pre style=\"white-space:pre;overflow-x:auto;line-height:normal;font-family:Menlo,'DejaVu Sans Mono',consolas,'Courier New',monospace\">Manim Community <span style=\"color: #008000; text-decoration-color: #008000\">v0.18.1</span>\n",
       "\n",
       "</pre>\n"
      ],
      "text/plain": [
       "Manim Community \u001b[32mv0.\u001b[0m\u001b[32m18.1\u001b[0m\n",
       "\n"
      ]
     },
     "metadata": {},
     "output_type": "display_data"
    },
    {
     "name": "stderr",
     "output_type": "stream",
     "text": [
      "                                                                                    \r"
     ]
    },
    {
     "data": {
      "text/html": [
       "<video src=\"media/jupyter/ColorMapCrossSection@2024-10-29@00-20-47.mp4\" controls autoplay loop style=\"max-width: 60%;\"  >\n",
       "      Your browser does not support the <code>video</code> element.\n",
       "    </video>"
      ],
      "text/plain": [
       "<IPython.core.display.Video object>"
      ]
     },
     "metadata": {},
     "output_type": "display_data"
    }
   ],
   "source": [
    "data = np.load(\"data/figure11slices_full_r200_z100.npz\")\n",
    "#warning old data is rotated 90degrees\n",
    "\n",
    "#creates the images (can be done outside of scene if correct naming is used)\n",
    "# Function to generate a color map from 2D data and save it as an image\n",
    "def create_colormap_image(data_slice, z_index):\n",
    "    plt.imshow(data_slice, cmap='viridis', vmin=1, vmax=5,origin=\"lower\",extent=paramspace.ravel())\n",
    "    plt.axis('off')  # Remove axis\n",
    "    # Save the plot as an image\n",
    "    plt.savefig(f\"junk/slice_{z_index}.png\", bbox_inches='tight', pad_inches=0)\n",
    "    plt.close()\n",
    "paramspace = np.array([[-2,10],[-2,10]])\n",
    "\n",
    "stack = np.stack([data[key] for key in data],axis=-1)\n",
    "x_size, y_size, z_size = stack.shape\n",
    "keys = data.keys()\n",
    "\n",
    "# Create color map images for each slice along the z-axis\n",
    "for z_slice in range(z_size):\n",
    "    create_colormap_image(stack[:, :, z_slice], z_slice)\n",
    "noframes = z_size\n",
    "%manim -ql -v WARNING --disable_caching ColorMapCrossSection"
   ]
  },
  {
   "cell_type": "markdown",
   "metadata": {},
   "source": [
    "### Orbit plot"
   ]
  },
  {
   "cell_type": "markdown",
   "metadata": {},
   "source": [
    "#### Creates example orbit (old version)"
   ]
  },
  {
   "cell_type": "code",
   "execution_count": 217,
   "metadata": {},
   "outputs": [
    {
     "ename": "SyntaxError",
     "evalue": "invalid syntax (321627862.py, line 2)",
     "output_type": "error",
     "traceback": [
      "\u001b[0;36m  Cell \u001b[0;32mIn[217], line 2\u001b[0;36m\u001b[0m\n\u001b[0;31m    dont run\u001b[0m\n\u001b[0m         ^\u001b[0m\n\u001b[0;31mSyntaxError\u001b[0m\u001b[0;31m:\u001b[0m invalid syntax\n"
     ]
    }
   ],
   "source": [
    "#import needed: numpy, pyplot, plotLayout\n",
    "dont run\n",
    "def nd_orbit(fnct, x0, it):\n",
    "    # calculates orbits of n dimensional map\n",
    "    # Where:\n",
    "    #- param fnct: Mapping function mapping x0 to x1 taking a single parameter\n",
    "    #- param x0: Initial value\n",
    "    #- param it: Number of iterations\n",
    "    #- returns: The entire orbit, including the initial value\n",
    "    #   Initialize\n",
    "    orbit = np.zeros((len(x0),it))\n",
    "    orbit[:,0]=x0\n",
    "    #   Main loop\n",
    "    for i in range(it-1):\n",
    "        orbit[:,i+1] = fnct(orbit[:,i])\n",
    "    return orbit"
   ]
  },
  {
   "cell_type": "code",
   "execution_count": 9,
   "metadata": {},
   "outputs": [],
   "source": [
    "def activation(x):\n",
    "    #the actication  function f()\n",
    "    #return (x+abs(x))/2 #ReLu\n",
    "    return 1/(1+np.exp(-x)) #sigmoid \n",
    "    #return np.tanh(x) #tanh"
   ]
  },
  {
   "cell_type": "code",
   "execution_count": 10,
   "metadata": {},
   "outputs": [],
   "source": [
    "#import needed: numpy, pyplot, plotLayout, nd_orbit\n",
    "def neuron_2_discrete(x0,a,b,alpha ,Nit, ntrans):\n",
    "    # calculates stable solution henon map\n",
    "    # Where:\n",
    "    #- param x0: Initial value\n",
    "    #- param a: Parameters of Henon map, being [a,b] in the standard expression\n",
    "    #- returns: An array containing the orbit of the Henon map without transients\n",
    "\n",
    "    #   Initialize  \n",
    "    linearmap = lambda xy: alpha * (a @ activation(xy) + b)\n",
    "    n_iter = Nit\n",
    "    # n_steps_until_stable = 100\n",
    "\n",
    "    #   Calculate orbit\n",
    "    orbit = nd_orbit(linearmap, x0, n_iter)\n",
    "    orbit = orbit[:, ntrans+1:] #remove the transient (+1 to also remove initial condition)\n",
    "    return orbit\n"
   ]
  },
  {
   "cell_type": "code",
   "execution_count": 11,
   "metadata": {},
   "outputs": [],
   "source": [
    "def orbit_generate():\n",
    "    x0 = -np.array([0.1,0.1])\n",
    "    w11 = -10\n",
    "    w12 = 5.9\n",
    "    a = np.array([[w11,w12],\n",
    "                [-6.6,0]])\n",
    "    b = np.array([-3.8,3])\n",
    "    alpha = 1\n",
    "    orbit = neuron_2_discrete(x0,a,b,alpha,20,0)\n",
    "    return orbit"
   ]
  },
  {
   "cell_type": "markdown",
   "metadata": {},
   "source": [
    "#### Manimation"
   ]
  },
  {
   "cell_type": "code",
   "execution_count": 19,
   "metadata": {},
   "outputs": [
    {
     "data": {
      "text/html": [
       "<pre style=\"white-space:pre;overflow-x:auto;line-height:normal;font-family:Menlo,'DejaVu Sans Mono',consolas,'Courier New',monospace\">Manim Community <span style=\"color: #008000; text-decoration-color: #008000\">v0.18.1</span>\n",
       "\n",
       "</pre>\n"
      ],
      "text/plain": [
       "Manim Community \u001b[32mv0.\u001b[0m\u001b[32m18.1\u001b[0m\n",
       "\n"
      ]
     },
     "metadata": {},
     "output_type": "display_data"
    },
    {
     "name": "stderr",
     "output_type": "stream",
     "text": [
      "                                                                                 \r"
     ]
    },
    {
     "data": {
      "text/html": [
       "<video src=\"media/jupyter/plorbit@2024-10-23@15-46-54.mp4\" controls autoplay loop style=\"max-width: 60%;\"  >\n",
       "      Your browser does not support the <code>video</code> element.\n",
       "    </video>"
      ],
      "text/plain": [
       "<IPython.core.display.Video object>"
      ]
     },
     "metadata": {},
     "output_type": "display_data"
    }
   ],
   "source": [
    "%%manim -ql -v WARNING --disable_caching plorbit\n",
    "\n",
    "class plorbit(Scene):\n",
    "    def calculate_axis_ranges(self, points):\n",
    "        \"\"\"\n",
    "        Calculate the x and y axis ranges based on the min and max\n",
    "        values of the orbit points.\n",
    "        \"\"\"\n",
    "        # Extract x and y coordinates\n",
    "        x_values = [h[0] for h in points]\n",
    "        y_values = [h[1] for h in points]\n",
    "\n",
    "        # Calculate min and max for x and y\n",
    "        x_min, x_max = min(x_values), max(x_values)\n",
    "        y_min, y_max = min(y_values), max(y_values)\n",
    "\n",
    "        # Add padding to the axis ranges for better visualization\n",
    "        padding_factor = 0.1  # 10% padding on each side\n",
    "        x_padding = (x_max - x_min) * padding_factor\n",
    "        y_padding = (y_max - y_min) * padding_factor\n",
    "\n",
    "        # Return the padded ranges\n",
    "        return x_min - x_padding, x_max + x_padding, y_min - y_padding, y_max + y_padding\n",
    "    def animate(self,orbit):\n",
    "        # Create axes for the orbit plot\n",
    "        x_min, x_max, y_min, y_max = self.calculate_axis_ranges(orbit)\n",
    "\n",
    "        # Create axes dynamically based on the calculated ranges\n",
    "        axes = Axes(\n",
    "            x_range=[x_min, x_max, (x_max - x_min) / 4],  # Divide into 4 intervals\n",
    "            y_range=[y_min, y_max, (y_max - y_min) / 4],\n",
    "            x_length=6,  # Length in units\n",
    "            y_length=6,\n",
    "            axis_config={\"color\": BLUE}\n",
    "        )\n",
    "        # axes = Axes(\n",
    "        #     x_range=[-2, 2, 0.5], y_range=[-2, 2, 0.5],\n",
    "        #     x_length=6, y_length=6,\n",
    "        #     axis_config={\"color\": BLUE}\n",
    "        # )\n",
    "        labels = axes.get_axis_labels(x_label=\"h1\", y_label=\"h2\")\n",
    "        numberplane = NumberPlane()\n",
    "        self.add(axes, labels)\n",
    "        #self.play(Create(axes), Write(labels))\n",
    "        # Convert the simulated points to Manim points on the 2D plane\n",
    "        orbit_points_manim = [\n",
    "            axes.c2p(orbit[0,i],orbit[1,i]) for i in range(orbit.shape[1])\n",
    "        ]\n",
    "        # Create the orbit as a line with a moving dot\n",
    "        orbit_path = VMobject(color=BLUE)\n",
    "        orbit_path.set_points_as_corners(orbit_points_manim)\n",
    "        moving_dot = Dot(orbit_points_manim[0], color=RED)\n",
    "\n",
    "        # Animation: Draw the orbit path and move the dot along the path\n",
    "        self.play(Create(orbit_path), FadeIn(moving_dot))\n",
    "        self.play(MoveAlongPath(moving_dot, orbit_path), run_time=4, rate_func=linear)\n",
    "\n",
    "        # Hold the final state for a moment\n",
    "        self.wait(2)\n",
    "    def construct(self):\n",
    "        orbit_points = orbit_generate()\n",
    "        self.animate(orbit_points)\n"
   ]
  },
  {
   "cell_type": "markdown",
   "metadata": {},
   "source": [
    "### Better grid orbit evolution"
   ]
  },
  {
   "cell_type": "markdown",
   "metadata": {},
   "source": [
    "#### Setup"
   ]
  },
  {
   "cell_type": "code",
   "execution_count": 172,
   "metadata": {},
   "outputs": [],
   "source": [
    "#import needed: numpy, pyplot, plotLayout\n",
    "def nd_orbit(fnct, x0, it):\n",
    "    # calculates orbits of n dimensional map\n",
    "    # Where:\n",
    "    #- param fnct: Mapping function mapping x0 to x1 taking a single parameter\n",
    "    #- param x0: Initial value\n",
    "    #- param it: Number of iterations\n",
    "    #- returns: The entire orbit, including the initial value\n",
    "    #   Initialize\n",
    "    orbit = np.zeros((it+1,len(x0)))\n",
    "    orbit[0]=x0\n",
    "    #   Main loop\n",
    "    for i in range(1,it+1):\n",
    "        orbit[i] = fnct(orbit[i-1])\n",
    "    return orbit\n",
    "def activation(x):\n",
    "    #the actication  function f()\n",
    "    #return (x+abs(x))/2 #ReLu\n",
    "    #return 1/(1+np.exp(-x)) #sigmoid \n",
    "    return np.tanh(x) #tanh\n",
    "active_tanh = lambda x: np.tanh(x)\n",
    "active_sigma = lambda x:  1/(1+np.exp(-x))\n",
    "\n",
    "#import needed: numpy, pyplot, plotLayout, nd_orbit\n",
    "def neuron_orbiter(x0, weightM,bias ,Nit=100, ntrans=10, activation = activation):\n",
    "    # calculates stable solution henon map\n",
    "    # Where:\n",
    "    #- param x0: Initial value\n",
    "    #- param a: Parameters of Henon map, being [a,b] in the standard expression\n",
    "    #- returns: An array containing the orbit of the Henon map without transients\n",
    "\n",
    "    linearmap = lambda x: (weightM @ activation(x) + bias)\n",
    "\n",
    "    #   Calculate orbit\n",
    "    orbit = nd_orbit(linearmap, x0, Nit)\n",
    "    orbit = orbit[ntrans:] #remove the transient (+1 to also remove initial condition)\n",
    "    return orbit.T"
   ]
  },
  {
   "cell_type": "code",
   "execution_count": 211,
   "metadata": {},
   "outputs": [],
   "source": [
    "#%%manim -ql -v WARNING --disable_caching GridOrbitAnimation\n",
    "\n",
    "class GridOrbitAnimation(Scene):\n",
    "    \"\"\"Generates a grid of points coloured by location which then evolve discretly\n",
    "\n",
    "    Args:\n",
    "    !!need to be set outside of scene\n",
    "        #axis params\n",
    "        x_high = 1.5\n",
    "        x_low= -x_high\n",
    "        y_high = x_high\n",
    "        y_low= -x_high\n",
    "        xtick = int(np.round((x_high-x_low)/3,0))\n",
    "        ytick = int(np.round((y_high-y_low)/3,0))\n",
    "        \n",
    "        steps = 80 #how many time steps to show\n",
    "        display_axes  = False\n",
    "        func = rotationM #/figure1chaos #the orbitfunction(x0)\n",
    "        #animate it\n",
    "        %manim -ql -v WARNING --disable_caching GridOrbitAnimation\n",
    "    \"\"\"\n",
    "    def construct(self):\n",
    "        viridis_cmap = matplotlib.colormaps['viridis'] #get color map\n",
    "        def point_to_color(x, y):\n",
    "            normed_value = norm(x+y) # Use both coordinates for color mapping\n",
    "            color = viridis_cmap(normed_value)\n",
    "            return list(color[:3]) #get rid of alpha channel\n",
    "        #create axis even if not shown important for scaling\n",
    "        x_range = y_range= [ x_low,x_high, xtick]\n",
    "        y_range= [y_low, y_high, ytick]\n",
    "        axis_length = 7\n",
    "        axes = Axes(\n",
    "            x_range=x_range,\n",
    "            y_range=y_range,\n",
    "            x_length=axis_length,\n",
    "            y_length=axis_length,\n",
    "            axis_config={\"include_numbers\": True}  # Display numbers on axes\n",
    "        )\n",
    "        if display_axes: self.play(Create(axes))\n",
    "\n",
    "        #create grid of dots\n",
    "        grid_size = 20  # number of points along each grid size\n",
    "        x_coords =  y_coords = np.linspace(x_range[0], x_range[1], grid_size)\n",
    "        y_coords = np.linspace(y_range[0], y_range[1], grid_size)\n",
    "        dots_coord = [np.array([x,y]) for x in x_coords for y in x_coords]\n",
    "\n",
    "        #create colors based on location\n",
    "        normarray = x_coords+y_coords #for colors\n",
    "        norm = matplotlib.colors.Normalize(vmin=normarray.min(), vmax=normarray.max())\n",
    "        colors = [ManimColor.from_rgb(point_to_color(x, y)) for x in x_coords for y in x_coords]\n",
    "        \n",
    "        \n",
    "        #calculate orbits for each dot\n",
    "        orbits = []\n",
    "        for dot_c in dots_coord:\n",
    "            orbit = func(dot_c)\n",
    "            #need to add 0 z coord for each coordinate\n",
    "            orbits.append(np.concatenate([orbit, np.zeros((1,orbit.shape[1] ))]))\n",
    "        \n",
    "        manim_orbits = [axes.c2p(*(orbit)) for orbit in orbits] #scale onto manim axes\n",
    "        #create actual dots at starting positions\n",
    "        dots = VGroup(*[Dot(orbit[:,0],radius=0.05,color=colors[i]) for i ,orbit in enumerate(manim_orbits)])\n",
    "        self.play(Create(dots))\n",
    "\n",
    "        #move dots about to create animation\n",
    "        num_steps = steps#30#orbits[0].shape[1]\n",
    "        for t in range(num_steps):\n",
    "            if t == 1: self.wait(0.5)\n",
    "            for i, dot in enumerate(dots):\n",
    "                #use c2p again to make sure correclty scaled\n",
    "                dot.move_to(axes.c2p(*orbits[i][:,t]))  \n",
    "            self.wait(0.2)  # pause to visualize each time step\n",
    "    \n"
   ]
  },
  {
   "cell_type": "markdown",
   "metadata": {},
   "source": [
    "#### Animate"
   ]
  },
  {
   "cell_type": "code",
   "execution_count": 200,
   "metadata": {},
   "outputs": [],
   "source": [
    "def rotationM(x0):\n",
    "    #a scaled rotation matrix (pretty)\n",
    "    alpha = 1.3\n",
    "    W = lambda theta: alpha * np.array([[np.cos(theta),np.sin(theta)],\n",
    "                        [-np.sin(theta),np.cos(theta)]])\n",
    "    b = np.array([0.,0.])\n",
    "    orbit = neuron_orbiter(x0,W(np.pi/15),b,100,0,active_tanh)\n",
    "    return orbit\n",
    "\n",
    "def figure1chaos(x0):\n",
    "    #chaotic behavoir from figure1 passman\n",
    "    w11, w12 = -18,8\n",
    "    w21 = -6\n",
    "    W =  np.array([[w11,w12],\n",
    "                    [w21,0]])\n",
    "    b =  np.array([-3,4])\n",
    "\n",
    "    orbit = neuron_orbiter(x0,W,b,100,0,active_sigma)\n",
    "    return orbit\n",
    "\n",
    "#to check params\n",
    "\n",
    "# orbit = figure1chaos(np.array([0.1,0.1]))\n",
    "# plt.scatter(orbit[0,:],orbit[1,:],c='k',s=1)\n",
    "# plt.gca().set_aspect('equal')"
   ]
  },
  {
   "cell_type": "code",
   "execution_count": 210,
   "metadata": {},
   "outputs": [
    {
     "data": {
      "text/html": [
       "<pre style=\"white-space:pre;overflow-x:auto;line-height:normal;font-family:Menlo,'DejaVu Sans Mono',consolas,'Courier New',monospace\">Manim Community <span style=\"color: #008000; text-decoration-color: #008000\">v0.18.1</span>\n",
       "\n",
       "</pre>\n"
      ],
      "text/plain": [
       "Manim Community \u001b[32mv0.\u001b[0m\u001b[32m18.1\u001b[0m\n",
       "\n"
      ]
     },
     "metadata": {},
     "output_type": "display_data"
    },
    {
     "name": "stderr",
     "output_type": "stream",
     "text": [
      "                                                                                              \r"
     ]
    },
    {
     "data": {
      "text/html": [
       "<video src=\"media/jupyter/GridOrbitAnimation@2024-10-29@00-15-07.mp4\" controls autoplay loop style=\"max-width: 60%;\"  >\n",
       "      Your browser does not support the <code>video</code> element.\n",
       "    </video>"
      ],
      "text/plain": [
       "<IPython.core.display.Video object>"
      ]
     },
     "metadata": {},
     "output_type": "display_data"
    }
   ],
   "source": [
    "#Generate Animation\n",
    "#axis params\n",
    "x_high = 1.5\n",
    "x_low= -x_high\n",
    "y_high = x_high\n",
    "y_low= -x_high\n",
    "xtick = int(np.round((x_high-x_low)/3,0))\n",
    "ytick = int(np.round((y_high-y_low)/3,0))\n",
    "\n",
    "steps = 80 #how many time steps to show\n",
    "display_axes  = False\n",
    "func = rotationM #/figure1chaos #the orbitfunction(x0)\n",
    "#animate it\n",
    "%manim -ql -v WARNING --disable_caching GridOrbitAnimation"
   ]
  }
 ],
 "metadata": {
  "kernelspec": {
   "display_name": "base",
   "language": "python",
   "name": "python3"
  },
  "language_info": {
   "codemirror_mode": {
    "name": "ipython",
    "version": 3
   },
   "file_extension": ".py",
   "mimetype": "text/x-python",
   "name": "python",
   "nbconvert_exporter": "python",
   "pygments_lexer": "ipython3",
   "version": "3.11.5"
  }
 },
 "nbformat": 4,
 "nbformat_minor": 2
}
